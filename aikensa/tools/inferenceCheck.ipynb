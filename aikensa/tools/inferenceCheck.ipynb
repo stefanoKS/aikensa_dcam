{
 "cells": [
  {
   "cell_type": "code",
   "execution_count": 54,
   "metadata": {},
   "outputs": [],
   "source": [
    "import os\n",
    "from ultralytics import YOLO\n",
    "import numpy as np\n",
    "import matplotlib.pyplot as plt\n",
    "from PIL import Image\n",
    "import cv2\n",
    "\n",
    "from sahi import AutoDetectionModel\n",
    "from sahi.predict import get_prediction, get_sliced_prediction, predict\n",
    "\n"
   ]
  },
  {
   "cell_type": "code",
   "execution_count": 55,
   "metadata": {},
   "outputs": [],
   "source": [
    "# path_P658207LE0A_SEGMENT_Model = \"./../models/P658207LE0A_SEGMENT.pt\"\n",
    "# P658207LE0A_SEGMENT_Model = YOLO(path_P658207LE0A_SEGMENT_Model)\n",
    "\n",
    "path_CLIP_Model = \"./../models/P8462284S00_detect.pt\"\n",
    "path_SEGMENT_Model = \"./../models/P8462284S00_segment.pt\"\n",
    "CLIP_Model = YOLO(path_CLIP_Model)\n",
    "SEGMENT_Model = YOLO(path_SEGMENT_Model)\n"
   ]
  },
  {
   "cell_type": "code",
   "execution_count": 56,
   "metadata": {},
   "outputs": [],
   "source": [
    "SAHI_CLIP_Model = AutoDetectionModel.from_pretrained(model_type=\"yolov8\",model_path=path_CLIP_Model,\n",
    "                                                                    confidence_threshold=0.5,   \n",
    "                                                                    device=\"cuda:0\")"
   ]
  },
  {
   "cell_type": "code",
   "execution_count": 57,
   "metadata": {},
   "outputs": [
    {
     "name": "stdout",
     "output_type": "stream",
     "text": [
      "c:\\Users\\AIKENSA 05\\Documents\\aikensa_dcam_gaikan_v0.1.1\\aikensa\\tools\n"
     ]
    }
   ],
   "source": [
    "#get current working directory\n",
    "cwd = os.getcwd()\n",
    "print(cwd)"
   ]
  },
  {
   "cell_type": "code",
   "execution_count": 58,
   "metadata": {},
   "outputs": [],
   "source": [
    "image_path = \"./../tools/sample/01.png\"\n",
    "\n",
    "image = cv2.imread(image_path)\n",
    "#rgb to bgr\n",
    "image = cv2.cvtColor(image, cv2.COLOR_BGR2RGB)"
   ]
  },
  {
   "cell_type": "code",
   "execution_count": 59,
   "metadata": {},
   "outputs": [],
   "source": [
    "ClipDetection = get_sliced_prediction(\n",
    "            image, \n",
    "            SAHI_CLIP_Model,\n",
    "            slice_height=497, slice_width=1960, \n",
    "            overlap_height_ratio=0.0, overlap_width_ratio=0.2,\n",
    "            postprocess_match_metric=\"IOS\",\n",
    "            postprocess_match_threshold=0.005,\n",
    "            postprocess_class_agnostic=True,\n",
    "            postprocess_type=\"GREEDYNMM\",\n",
    "            verbose=0,\n",
    "            perform_standard_pred=False\n",
    "        )\n",
    "\n",
    "ClipDetection.export_visuals(export_dir=\"demo_data/\", rect_th=1, hide_labels=True, hide_conf=True)\n"
   ]
  },
  {
   "cell_type": "code",
   "execution_count": 60,
   "metadata": {},
   "outputs": [
    {
     "name": "stdout",
     "output_type": "stream",
     "text": [
      "\n",
      "WARNING  imgsz=[1960] must be multiple of max stride 32, updating to [1984]\n",
      "image 1/1 c:\\Users\\AIKENSA 05\\Documents\\aikensa_dcam_gaikan_v0.1.1\\aikensa\\tools\\..\\tools\\sample\\01.png: 192x1984 11 CLIPs, 11.5ms\n",
      "Speed: 2.0ms preprocess, 11.5ms inference, 1.0ms postprocess per image at shape (1, 3, 192, 1984)\n",
      "Results saved to \u001b[1mruns\\detect\\predict12\u001b[0m\n"
     ]
    }
   ],
   "source": [
    "result = CLIP_Model(image_path, imgsz=1960, save=True, visualize=False, show_boxes=False, conf=0.01)\n"
   ]
  },
  {
   "cell_type": "code",
   "execution_count": 61,
   "metadata": {},
   "outputs": [
    {
     "name": "stdout",
     "output_type": "stream",
     "text": [
      "\n",
      "0: 416x1280 1 WS, 9.0ms\n",
      "Speed: 3.0ms preprocess, 9.0ms inference, 1.0ms postprocess per image at shape (1, 3, 416, 1280)\n",
      "Results saved to \u001b[1mruns\\segment\\predict\u001b[0m\n",
      "\n",
      "0: 416x1280 1 WS, 8.0ms\n",
      "Speed: 3.0ms preprocess, 8.0ms inference, 2.0ms postprocess per image at shape (1, 3, 416, 1280)\n",
      "Results saved to \u001b[1mruns\\segment\\predict\u001b[0m\n"
     ]
    }
   ],
   "source": [
    "#predict segmentations\n",
    "image = cv2.cvtColor(image, cv2.COLOR_BGR2RGB)\n",
    "image1 = image[:, :1640, :]\n",
    "image2 = image[:, -1640:, :]\n",
    "segmentation = SEGMENT_Model(image1, imgsz=1280, save=True, visualize=False, show_boxes=False, conf=0.3, retina_masks=True)\n",
    "segmentation = SEGMENT_Model(image2, imgsz=1280, save=True, visualize=False, show_boxes=False, conf=0.3, retina_masks=True)"
   ]
  }
 ],
 "metadata": {
  "kernelspec": {
   "display_name": "aikensadcam_gaikan",
   "language": "python",
   "name": "python3"
  },
  "language_info": {
   "codemirror_mode": {
    "name": "ipython",
    "version": 3
   },
   "file_extension": ".py",
   "mimetype": "text/x-python",
   "name": "python",
   "nbconvert_exporter": "python",
   "pygments_lexer": "ipython3",
   "version": "3.12.7"
  }
 },
 "nbformat": 4,
 "nbformat_minor": 2
}
