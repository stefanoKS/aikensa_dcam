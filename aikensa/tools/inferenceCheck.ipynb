{
 "cells": [
  {
   "cell_type": "code",
   "execution_count": 1,
   "metadata": {},
   "outputs": [],
   "source": [
    "import os\n",
    "from ultralytics import YOLO\n",
    "import numpy as np\n",
    "import matplotlib.pyplot as plt\n",
    "from PIL import Image\n",
    "import cv2\n",
    "\n",
    "from sahi import AutoDetectionModel\n",
    "from sahi.predict import get_prediction, get_sliced_prediction, predict\n",
    "\n"
   ]
  },
  {
   "cell_type": "code",
   "execution_count": 3,
   "metadata": {},
   "outputs": [],
   "source": [
    "path_P658207LE0A_SEGMENT_Model = \"./../models/P658207LE0A_SEGMENT.pt\"\n",
    "P658207LE0A_SEGMENT_Model = YOLO(path_P658207LE0A_SEGMENT_Model)\n",
    "\n",
    "path_P658207LE0A_CLIP_Model = \"./../models/P658207LE0A_CLIP.pt\"\n",
    "P658207LE0A_CLIP_Model = YOLO(path_P658207LE0A_CLIP_Model)\n"
   ]
  },
  {
   "cell_type": "code",
   "execution_count": 7,
   "metadata": {},
   "outputs": [],
   "source": [
    "path_CLIP_Model = \"./../models/P5819A107_CLIP.pt\"\n",
    "\n",
    "SAHI_CLIP_Model = AutoDetectionModel.from_pretrained(model_type=\"yolov8\",model_path=path_CLIP_Model,\n",
    "                                                                    confidence_threshold=0.5,   \n",
    "                                                                    device=\"cuda:0\")"
   ]
  },
  {
   "cell_type": "code",
   "execution_count": 8,
   "metadata": {},
   "outputs": [
    {
     "name": "stderr",
     "output_type": "stream",
     "text": [
      "[ WARN:0@129.112] global loadsave.cpp:241 findDecoder imread_('./../inspection_results/658207LE0A/20240918/NG/nama/20240918_161851.png'): can't open/read file: check file path/integrity\n"
     ]
    }
   ],
   "source": [
    "image_path = \"./../inspection_results/658207LE0A/20240918/NG/nama/20240918_161851.png\"\n",
    "image = cv2.imread(image_path)"
   ]
  },
  {
   "cell_type": "code",
   "execution_count": 9,
   "metadata": {},
   "outputs": [],
   "source": [
    "image_path = \"./../tools/sample/01.png\"\n",
    "\n",
    "image = cv2.imread(image_path)\n",
    "#rgb to bgr\n",
    "image = cv2.cvtColor(image, cv2.COLOR_BGR2RGB)"
   ]
  },
  {
   "cell_type": "code",
   "execution_count": 10,
   "metadata": {},
   "outputs": [],
   "source": [
    "ClipDetection = get_sliced_prediction(\n",
    "            image, \n",
    "            SAHI_CLIP_Model,\n",
    "            slice_height=497, slice_width=1960, \n",
    "            overlap_height_ratio=0.0, overlap_width_ratio=0.2,\n",
    "            postprocess_match_metric=\"IOS\",\n",
    "            postprocess_match_threshold=0.005,\n",
    "            postprocess_class_agnostic=True,\n",
    "            postprocess_type=\"GREEDYNMM\",\n",
    "            verbose=0,\n",
    "            perform_standard_pred=False\n",
    "        )\n",
    "\n",
    "ClipDetection.export_visuals(export_dir=\"demo_data/\", rect_th=1, hide_labels=True, hide_conf=True)\n"
   ]
  },
  {
   "cell_type": "code",
   "execution_count": 11,
   "metadata": {},
   "outputs": [
    {
     "ename": "NameError",
     "evalue": "name 'CLIP_Model' is not defined",
     "output_type": "error",
     "traceback": [
      "\u001b[0;31m---------------------------------------------------------------------------\u001b[0m",
      "\u001b[0;31mNameError\u001b[0m                                 Traceback (most recent call last)",
      "Cell \u001b[0;32mIn[11], line 1\u001b[0m\n\u001b[0;32m----> 1\u001b[0m result \u001b[38;5;241m=\u001b[39m \u001b[43mCLIP_Model\u001b[49m(image_path, imgsz\u001b[38;5;241m=\u001b[39m\u001b[38;5;241m1960\u001b[39m, save\u001b[38;5;241m=\u001b[39m\u001b[38;5;28;01mTrue\u001b[39;00m, visualize\u001b[38;5;241m=\u001b[39m\u001b[38;5;28;01mFalse\u001b[39;00m, show_boxes\u001b[38;5;241m=\u001b[39m\u001b[38;5;28;01mFalse\u001b[39;00m, conf\u001b[38;5;241m=\u001b[39m\u001b[38;5;241m0.01\u001b[39m)\n",
      "\u001b[0;31mNameError\u001b[0m: name 'CLIP_Model' is not defined"
     ]
    }
   ],
   "source": [
    "result = CLIP_Model(image_path, imgsz=1960, save=True, visualize=False, show_boxes=False, conf=0.01)\n"
   ]
  },
  {
   "cell_type": "code",
   "execution_count": 7,
   "metadata": {},
   "outputs": [
    {
     "name": "stdout",
     "output_type": "stream",
     "text": [
      "\n",
      "WARNING ⚠️ imgsz=[2500] must be multiple of max stride 32, updating to [2528]\n",
      "image 1/1 /home/sekkei/Documents/aikensadcam/aikensa_dcam/aikensa/tools/../inspection_results/658207LE0A/20240918/NG/nama/20240918_161851.png: 512x2528 (no detections), 137.7ms\n",
      "Speed: 13.7ms preprocess, 137.7ms inference, 1.5ms postprocess per image at shape (1, 3, 512, 2528)\n",
      "Results saved to \u001b[1mruns/detect/predict\u001b[0m\n"
     ]
    }
   ],
   "source": [
    "result = P658207LE0A_CLIP_Model(image_path, imgsz=2500, save=True, visualize=False, show_boxes=False, conf=0.01)"
   ]
  },
  {
   "cell_type": "code",
   "execution_count": null,
   "metadata": {},
   "outputs": [],
   "source": []
  }
 ],
 "metadata": {
  "kernelspec": {
   "display_name": "aikensadcam",
   "language": "python",
   "name": "python3"
  },
  "language_info": {
   "codemirror_mode": {
    "name": "ipython",
    "version": 3
   },
   "file_extension": ".py",
   "mimetype": "text/x-python",
   "name": "python",
   "nbconvert_exporter": "python",
   "pygments_lexer": "ipython3",
   "version": "3.10.14"
  }
 },
 "nbformat": 4,
 "nbformat_minor": 2
}
