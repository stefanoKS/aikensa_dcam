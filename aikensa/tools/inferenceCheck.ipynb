{
 "cells": [
  {
   "cell_type": "code",
   "execution_count": 1,
   "metadata": {},
   "outputs": [],
   "source": [
    "import os\n",
    "from ultralytics import YOLO\n",
    "import numpy as np\n",
    "import matplotlib.pyplot as plt\n",
    "from PIL import Image\n",
    "import cv2"
   ]
  },
  {
   "cell_type": "code",
   "execution_count": 3,
   "metadata": {},
   "outputs": [],
   "source": [
    "path_P658207LE0A_SEGMENT_Model = \"./../models/P658207LE0A_SEGMENT.pt\"\n",
    "P658207LE0A_SEGMENT_Model = YOLO(path_P658207LE0A_SEGMENT_Model)\n",
    "\n",
    "path_P658207LE0A_CLIP_Model = \"./../models/P658207LE0A_CLIP.pt\"\n",
    "P658207LE0A_CLIP_Model = YOLO(path_P658207LE0A_CLIP_Model)\n"
   ]
  },
  {
   "cell_type": "code",
   "execution_count": 4,
   "metadata": {},
   "outputs": [],
   "source": [
    "image_path = \"./../inspection_results/658207LE0A/20240918/NG/nama/20240918_161851.png\"\n",
    "image = cv2.imread(image_path)"
   ]
  },
  {
   "cell_type": "code",
   "execution_count": 7,
   "metadata": {},
   "outputs": [
    {
     "name": "stdout",
     "output_type": "stream",
     "text": [
      "\n",
      "WARNING ⚠️ imgsz=[2500] must be multiple of max stride 32, updating to [2528]\n",
      "image 1/1 /home/sekkei/Documents/aikensadcam/aikensa_dcam/aikensa/tools/../inspection_results/658207LE0A/20240918/NG/nama/20240918_161851.png: 512x2528 (no detections), 137.7ms\n",
      "Speed: 13.7ms preprocess, 137.7ms inference, 1.5ms postprocess per image at shape (1, 3, 512, 2528)\n",
      "Results saved to \u001b[1mruns/detect/predict\u001b[0m\n"
     ]
    }
   ],
   "source": [
    "result = P658207LE0A_CLIP_Model(image_path, imgsz=2500, save=True, visualize=False, show_boxes=False, conf=0.01)"
   ]
  },
  {
   "cell_type": "code",
   "execution_count": null,
   "metadata": {},
   "outputs": [],
   "source": []
  }
 ],
 "metadata": {
  "kernelspec": {
   "display_name": "aikensadcam",
   "language": "python",
   "name": "python3"
  },
  "language_info": {
   "codemirror_mode": {
    "name": "ipython",
    "version": 3
   },
   "file_extension": ".py",
   "mimetype": "text/x-python",
   "name": "python",
   "nbconvert_exporter": "python",
   "pygments_lexer": "ipython3",
   "version": "3.10.14"
  }
 },
 "nbformat": 4,
 "nbformat_minor": 2
}
