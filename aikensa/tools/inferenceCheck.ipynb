{
 "cells": [
  {
   "cell_type": "code",
   "execution_count": 18,
   "metadata": {},
   "outputs": [],
   "source": [
    "import os\n",
    "from ultralytics import YOLO\n",
    "import numpy as np\n",
    "import matplotlib.pyplot as plt\n",
    "from PIL import Image\n",
    "import cv2\n",
    "\n",
    "from sahi import AutoDetectionModel\n",
    "from sahi.predict import get_prediction, get_sliced_prediction, predict\n",
    "\n"
   ]
  },
  {
   "cell_type": "code",
   "execution_count": 24,
   "metadata": {},
   "outputs": [],
   "source": [
    "# path_P658207LE0A_SEGMENT_Model = \"./../models/P658207LE0A_SEGMENT.pt\"\n",
    "# P658207LE0A_SEGMENT_Model = YOLO(path_P658207LE0A_SEGMENT_Model)\n",
    "\n",
    "path_CLIP_Model = \"./../models/P731957YA0A_detect.pt\"\n",
    "CLIP_Model = YOLO(path_CLIP_Model)\n"
   ]
  },
  {
   "cell_type": "code",
   "execution_count": 25,
   "metadata": {},
   "outputs": [],
   "source": [
    "SAHI_CLIP_Model = AutoDetectionModel.from_pretrained(model_type=\"yolov8\",model_path=path_CLIP_Model,\n",
    "                                                                    confidence_threshold=0.5,   \n",
    "                                                                    device=\"cuda:0\")"
   ]
  },
  {
   "cell_type": "code",
   "execution_count": 26,
   "metadata": {},
   "outputs": [
    {
     "name": "stdout",
     "output_type": "stream",
     "text": [
      "c:\\Users\\AIKENSA 05\\Documents\\aikensa_dcam_gaikan_v0.1.1\\aikensa\\tools\n"
     ]
    }
   ],
   "source": [
    "#get current working directory\n",
    "cwd = os.getcwd()\n",
    "print(cwd)"
   ]
  },
  {
   "cell_type": "code",
   "execution_count": 27,
   "metadata": {},
   "outputs": [],
   "source": [
    "image_path = \"./../tools/sample/01.png\"\n",
    "\n",
    "image = cv2.imread(image_path)\n",
    "#rgb to bgr\n",
    "image = cv2.cvtColor(image, cv2.COLOR_BGR2RGB)"
   ]
  },
  {
   "cell_type": "code",
   "execution_count": 28,
   "metadata": {},
   "outputs": [],
   "source": [
    "ClipDetection = get_sliced_prediction(\n",
    "            image, \n",
    "            SAHI_CLIP_Model,\n",
    "            slice_height=497, slice_width=1960, \n",
    "            overlap_height_ratio=0.0, overlap_width_ratio=0.2,\n",
    "            postprocess_match_metric=\"IOS\",\n",
    "            postprocess_match_threshold=0.005,\n",
    "            postprocess_class_agnostic=True,\n",
    "            postprocess_type=\"GREEDYNMM\",\n",
    "            verbose=0,\n",
    "            perform_standard_pred=True\n",
    "        )\n",
    "\n",
    "ClipDetection.export_visuals(export_dir=\"demo_data/\")"
   ]
  },
  {
   "cell_type": "code",
   "execution_count": null,
   "metadata": {},
   "outputs": [
    {
     "name": "stdout",
     "output_type": "stream",
     "text": [
      "\n",
      "WARNING  imgsz=[1960] must be multiple of max stride 32, updating to [1984]\n",
      "image 1/1 c:\\Users\\AIKENSA 05\\Documents\\aikensa_dcam_gaikan_v0.1.1\\aikensa\\tools\\..\\tools\\sample\\01.png: 160x1984 (no detections), 183.1ms\n",
      "Speed: 0.0ms preprocess, 183.1ms inference, 0.1ms postprocess per image at shape (1, 3, 160, 1984)\n",
      "Results saved to \u001b[1mruns\\detect\\predict2\u001b[0m\n"
     ]
    },
    {
     "ename": "AttributeError",
     "evalue": "'list' object has no attribute 'export_visuals'",
     "output_type": "error",
     "traceback": [
      "\u001b[1;31m---------------------------------------------------------------------------\u001b[0m",
      "\u001b[1;31mAttributeError\u001b[0m                            Traceback (most recent call last)",
      "Cell \u001b[1;32mIn[14], line 2\u001b[0m\n\u001b[0;32m      1\u001b[0m result \u001b[38;5;241m=\u001b[39m CLIP_Model(image_path, imgsz\u001b[38;5;241m=\u001b[39m\u001b[38;5;241m1960\u001b[39m, save\u001b[38;5;241m=\u001b[39m\u001b[38;5;28;01mTrue\u001b[39;00m, visualize\u001b[38;5;241m=\u001b[39m\u001b[38;5;28;01mFalse\u001b[39;00m, show_boxes\u001b[38;5;241m=\u001b[39m\u001b[38;5;28;01mFalse\u001b[39;00m, conf\u001b[38;5;241m=\u001b[39m\u001b[38;5;241m0.01\u001b[39m)\n\u001b[1;32m----> 2\u001b[0m \u001b[43mresult\u001b[49m\u001b[38;5;241;43m.\u001b[39;49m\u001b[43mexport_visuals\u001b[49m(export_dir\u001b[38;5;241m=\u001b[39m\u001b[38;5;124m\"\u001b[39m\u001b[38;5;124mdemo_data/\u001b[39m\u001b[38;5;124m\"\u001b[39m)\n",
      "\u001b[1;31mAttributeError\u001b[0m: 'list' object has no attribute 'export_visuals'"
     ]
    }
   ],
   "source": [
    "result = CLIP_Model(image_path, imgsz=1960, save=True, visualize=False, show_boxes=False, conf=0.01)\n"
   ]
  },
  {
   "cell_type": "code",
   "execution_count": null,
   "metadata": {},
   "outputs": [],
   "source": []
  }
 ],
 "metadata": {
  "kernelspec": {
   "display_name": "aikensadcam_gaikan",
   "language": "python",
   "name": "python3"
  },
  "language_info": {
   "codemirror_mode": {
    "name": "ipython",
    "version": 3
   },
   "file_extension": ".py",
   "mimetype": "text/x-python",
   "name": "python",
   "nbconvert_exporter": "python",
   "pygments_lexer": "ipython3",
   "version": "3.12.7"
  }
 },
 "nbformat": 4,
 "nbformat_minor": 2
}
